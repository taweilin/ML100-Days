{
 "cells": [
  {
   "cell_type": "markdown",
   "metadata": {},
   "source": [
    "## Work\n",
    "1. 請嘗試將 preproc_x 替換成以每筆資料的 min/max 進行標準化至 -1 ~ 1 間，再進行訓練\n",
    "2. 請嘗試將 mlp 疊更深 (e.g 5~10 層)，進行訓練後觀察 learning curve 的走勢\n",
    "3. (optional) 請改用 GPU 進行訓練 (如果你有 GPU 的話)，比較使用 CPU 與 GPU 的訓練速度"
   ]
  },
  {
   "cell_type": "code",
   "execution_count": 1,
   "metadata": {},
   "outputs": [
    {
     "name": "stdout",
     "output_type": "stream",
     "text": [
      "Failed to initialize NVML: Driver/library version mismatch\n"
     ]
    }
   ],
   "source": [
    "## 確認硬體資源\n",
    "\"\"\"\n",
    "Your code here\n",
    "\"\"\"\n",
    "!nvidia-smi"
   ]
  },
  {
   "cell_type": "code",
   "execution_count": 15,
   "metadata": {},
   "outputs": [],
   "source": [
    "import os\n",
    "import keras\n",
    "\n",
    "# Try to enable GPU (optional)\n",
    "os.environ[\"CUDA_VISIBLE_DEVICES\"] = \"\""
   ]
  },
  {
   "cell_type": "code",
   "execution_count": 16,
   "metadata": {},
   "outputs": [],
   "source": [
    "train, test = keras.datasets.cifar10.load_data()"
   ]
  },
  {
   "cell_type": "code",
   "execution_count": 17,
   "metadata": {},
   "outputs": [],
   "source": [
    "## 資料前處理\n",
    "\"\"\"\n",
    "Your code here\n",
    "\"\"\"\n",
    "def preproc_x(x, flatten=True):\n",
    "    x =  (((x - x.min()) / (x.max() - x.min()))-0.5)*2\n",
    "    if flatten:\n",
    "        x = x.reshape((len(x), -1))\n",
    "    return x\n",
    "\n",
    "def preproc_y(y, num_classes=10):\n",
    "    if y.shape[-1] == 1:\n",
    "        y = keras.utils.to_categorical(y, num_classes)\n",
    "    return y   "
   ]
  },
  {
   "cell_type": "code",
   "execution_count": 18,
   "metadata": {},
   "outputs": [],
   "source": [
    "x_train, y_train = train\n",
    "x_test, y_test = test\n",
    "\n",
    "# Preproc the inputs\n",
    "x_train = preproc_x(x_train)\n",
    "x_test = preproc_x(x_test)\n",
    "\n",
    "# Preprc the outputs\n",
    "y_train = preproc_y(y_train)\n",
    "y_test = preproc_y(y_test)"
   ]
  },
  {
   "cell_type": "code",
   "execution_count": 19,
   "metadata": {},
   "outputs": [
    {
     "name": "stdout",
     "output_type": "stream",
     "text": [
      "_________________________________________________________________\n",
      "Layer (type)                 Output Shape              Param #   \n",
      "=================================================================\n",
      "input_2 (InputLayer)         (None, 3072)              0         \n",
      "_________________________________________________________________\n",
      "hidden_layer1 (Dense)        (None, 512)               1573376   \n",
      "_________________________________________________________________\n",
      "hidden_layer2 (Dense)        (None, 256)               131328    \n",
      "_________________________________________________________________\n",
      "hidden_layer3 (Dense)        (None, 128)               32896     \n",
      "_________________________________________________________________\n",
      "hidden_layer4 (Dense)        (None, 64)                8256      \n",
      "_________________________________________________________________\n",
      "hidden_layer5 (Dense)        (None, 32)                2080      \n",
      "_________________________________________________________________\n",
      "output (Dense)               (None, 10)                330       \n",
      "=================================================================\n",
      "Total params: 1,748,266\n",
      "Trainable params: 1,748,266\n",
      "Non-trainable params: 0\n",
      "_________________________________________________________________\n"
     ]
    }
   ],
   "source": [
    "\"\"\"\n",
    "Your code here\n",
    "\"\"\"\n",
    "def build_mlp(input_shape, output_units=10, num_neurons=[512, 256, 128, 64, 32]):\n",
    "    input_layer = keras.layers.Input(input_shape)\n",
    "    \n",
    "    for i, n_units in enumerate(num_neurons):\n",
    "        if i == 0:\n",
    "            x = keras.layers.Dense(units=n_units, activation=\"relu\", name=\"hidden_layer\"+str(i+1))(input_layer)\n",
    "        else:\n",
    "            x = keras.layers.Dense(units=n_units, activation=\"relu\", name=\"hidden_layer\"+str(i+1))(x)\n",
    "    \n",
    "    out = keras.layers.Dense(units=output_units, activation=\"softmax\", name=\"output\")(x)\n",
    "    \n",
    "    model = keras.models.Model(inputs=[input_layer], outputs=[out])\n",
    "    return model\n",
    "\n",
    "model = build_mlp(input_shape=x_train.shape[1:])\n",
    "model.summary()"
   ]
  },
  {
   "cell_type": "code",
   "execution_count": 20,
   "metadata": {},
   "outputs": [],
   "source": [
    "## 超參數設定\n",
    "LEARNING_RATE = 0.001\n",
    "EPOCHS = 100\n",
    "BATCH_SIZE = 256"
   ]
  },
  {
   "cell_type": "code",
   "execution_count": 21,
   "metadata": {},
   "outputs": [],
   "source": [
    "optimizer = keras.optimizers.Adam(lr=LEARNING_RATE)\n",
    "model.compile(loss=\"categorical_crossentropy\", metrics=[\"accuracy\"], optimizer=optimizer)"
   ]
  },
  {
   "cell_type": "code",
   "execution_count": 22,
   "metadata": {},
   "outputs": [
    {
     "name": "stdout",
     "output_type": "stream",
     "text": [
      "Train on 50000 samples, validate on 10000 samples\n",
      "Epoch 1/100\n",
      "50000/50000 [==============================] - 11s 226us/step - loss: 1.7410 - acc: 0.3808 - val_loss: 1.5746 - val_acc: 0.4408\n",
      "Epoch 2/100\n",
      "50000/50000 [==============================] - 8s 153us/step - loss: 1.5003 - acc: 0.4722 - val_loss: 1.4889 - val_acc: 0.4789\n",
      "Epoch 3/100\n",
      "50000/50000 [==============================] - 10s 204us/step - loss: 1.3799 - acc: 0.5142 - val_loss: 1.4222 - val_acc: 0.5075\n",
      "Epoch 4/100\n",
      "50000/50000 [==============================] - 11s 222us/step - loss: 1.2850 - acc: 0.5492 - val_loss: 1.3873 - val_acc: 0.5168\n",
      "Epoch 5/100\n",
      "50000/50000 [==============================] - 8s 153us/step - loss: 1.2053 - acc: 0.5788 - val_loss: 1.4089 - val_acc: 0.5125\n",
      "Epoch 6/100\n",
      "50000/50000 [==============================] - 10s 207us/step - loss: 1.1248 - acc: 0.6055 - val_loss: 1.4195 - val_acc: 0.5173\n",
      "Epoch 7/100\n",
      "50000/50000 [==============================] - 11s 218us/step - loss: 1.0530 - acc: 0.6294 - val_loss: 1.3657 - val_acc: 0.5341\n",
      "Epoch 8/100\n",
      "50000/50000 [==============================] - 8s 162us/step - loss: 0.9779 - acc: 0.6561 - val_loss: 1.3819 - val_acc: 0.5410\n",
      "Epoch 9/100\n",
      "50000/50000 [==============================] - 10s 200us/step - loss: 0.9170 - acc: 0.6761 - val_loss: 1.3949 - val_acc: 0.5410\n",
      "Epoch 10/100\n",
      "50000/50000 [==============================] - 11s 223us/step - loss: 0.8471 - acc: 0.7008 - val_loss: 1.4582 - val_acc: 0.5315\n",
      "Epoch 11/100\n",
      "50000/50000 [==============================] - 8s 163us/step - loss: 0.7796 - acc: 0.7235 - val_loss: 1.4982 - val_acc: 0.5400\n",
      "Epoch 12/100\n",
      "50000/50000 [==============================] - 10s 194us/step - loss: 0.7151 - acc: 0.7481 - val_loss: 1.5620 - val_acc: 0.5400\n",
      "Epoch 13/100\n",
      "50000/50000 [==============================] - 11s 218us/step - loss: 0.6578 - acc: 0.7683 - val_loss: 1.6371 - val_acc: 0.5220\n",
      "Epoch 14/100\n",
      "50000/50000 [==============================] - 9s 171us/step - loss: 0.6081 - acc: 0.7858 - val_loss: 1.7355 - val_acc: 0.5144\n",
      "Epoch 15/100\n",
      "50000/50000 [==============================] - 9s 189us/step - loss: 0.5602 - acc: 0.8027 - val_loss: 1.7763 - val_acc: 0.5292\n",
      "Epoch 16/100\n",
      "50000/50000 [==============================] - 11s 223us/step - loss: 0.5043 - acc: 0.8226 - val_loss: 1.9102 - val_acc: 0.5269\n",
      "Epoch 17/100\n",
      "50000/50000 [==============================] - 9s 178us/step - loss: 0.4680 - acc: 0.8339 - val_loss: 1.9844 - val_acc: 0.5218\n",
      "Epoch 18/100\n",
      "50000/50000 [==============================] - 9s 184us/step - loss: 0.4288 - acc: 0.8490 - val_loss: 2.0064 - val_acc: 0.5327\n",
      "Epoch 19/100\n",
      "50000/50000 [==============================] - 11s 223us/step - loss: 0.4015 - acc: 0.8577 - val_loss: 2.0780 - val_acc: 0.5383\n",
      "Epoch 20/100\n",
      "50000/50000 [==============================] - 9s 185us/step - loss: 0.3628 - acc: 0.8733 - val_loss: 2.2009 - val_acc: 0.5355\n",
      "Epoch 21/100\n",
      "50000/50000 [==============================] - 9s 183us/step - loss: 0.3345 - acc: 0.8839 - val_loss: 2.2955 - val_acc: 0.5340\n",
      "Epoch 22/100\n",
      "50000/50000 [==============================] - 11s 221us/step - loss: 0.3094 - acc: 0.8915 - val_loss: 2.3647 - val_acc: 0.5250\n",
      "Epoch 23/100\n",
      "50000/50000 [==============================] - 9s 190us/step - loss: 0.3028 - acc: 0.8940 - val_loss: 2.3457 - val_acc: 0.5217\n",
      "Epoch 24/100\n",
      "50000/50000 [==============================] - 9s 182us/step - loss: 0.2770 - acc: 0.9044 - val_loss: 2.4923 - val_acc: 0.5261\n",
      "Epoch 25/100\n",
      "50000/50000 [==============================] - 11s 219us/step - loss: 0.2623 - acc: 0.9091 - val_loss: 2.6254 - val_acc: 0.5234\n",
      "Epoch 26/100\n",
      "50000/50000 [==============================] - 9s 187us/step - loss: 0.2504 - acc: 0.9133 - val_loss: 2.6786 - val_acc: 0.5156\n",
      "Epoch 27/100\n",
      "50000/50000 [==============================] - 9s 183us/step - loss: 0.2210 - acc: 0.9251 - val_loss: 2.7885 - val_acc: 0.5252\n",
      "Epoch 28/100\n",
      "50000/50000 [==============================] - 11s 222us/step - loss: 0.2213 - acc: 0.9229 - val_loss: 2.7939 - val_acc: 0.5241\n",
      "Epoch 29/100\n",
      "50000/50000 [==============================] - 9s 186us/step - loss: 0.2226 - acc: 0.9227 - val_loss: 2.8813 - val_acc: 0.5243\n",
      "Epoch 30/100\n",
      "50000/50000 [==============================] - 9s 170us/step - loss: 0.2009 - acc: 0.9318 - val_loss: 2.8812 - val_acc: 0.5197\n",
      "Epoch 31/100\n",
      "50000/50000 [==============================] - 11s 216us/step - loss: 0.1949 - acc: 0.9317 - val_loss: 2.9318 - val_acc: 0.5271\n",
      "Epoch 32/100\n",
      "50000/50000 [==============================] - 10s 197us/step - loss: 0.1982 - acc: 0.9323 - val_loss: 3.0447 - val_acc: 0.5283\n",
      "Epoch 33/100\n",
      "50000/50000 [==============================] - 9s 172us/step - loss: 0.1925 - acc: 0.9338 - val_loss: 2.9155 - val_acc: 0.5259\n",
      "Epoch 34/100\n",
      "50000/50000 [==============================] - 11s 220us/step - loss: 0.1691 - acc: 0.9425 - val_loss: 3.0363 - val_acc: 0.5281\n",
      "Epoch 35/100\n",
      "50000/50000 [==============================] - 10s 191us/step - loss: 0.1788 - acc: 0.9378 - val_loss: 3.0094 - val_acc: 0.5299\n",
      "Epoch 36/100\n",
      "50000/50000 [==============================] - 8s 169us/step - loss: 0.1569 - acc: 0.9465 - val_loss: 3.1299 - val_acc: 0.5290\n",
      "Epoch 37/100\n",
      "50000/50000 [==============================] - 11s 225us/step - loss: 0.1607 - acc: 0.9465 - val_loss: 3.2382 - val_acc: 0.5230\n",
      "Epoch 38/100\n",
      "50000/50000 [==============================] - 10s 201us/step - loss: 0.1496 - acc: 0.9484 - val_loss: 3.2488 - val_acc: 0.5295\n",
      "Epoch 39/100\n",
      "50000/50000 [==============================] - 8s 169us/step - loss: 0.1547 - acc: 0.9472 - val_loss: 3.1645 - val_acc: 0.5325\n",
      "Epoch 40/100\n",
      "50000/50000 [==============================] - 11s 222us/step - loss: 0.1445 - acc: 0.9502 - val_loss: 3.2779 - val_acc: 0.5285\n",
      "Epoch 41/100\n",
      "50000/50000 [==============================] - 10s 193us/step - loss: 0.1433 - acc: 0.9515 - val_loss: 3.4668 - val_acc: 0.5260\n",
      "Epoch 42/100\n",
      "50000/50000 [==============================] - 9s 172us/step - loss: 0.1424 - acc: 0.9511 - val_loss: 3.3557 - val_acc: 0.5283\n",
      "Epoch 43/100\n",
      "50000/50000 [==============================] - 11s 225us/step - loss: 0.1207 - acc: 0.9590 - val_loss: 3.4794 - val_acc: 0.5278\n",
      "Epoch 44/100\n",
      "50000/50000 [==============================] - 10s 198us/step - loss: 0.1255 - acc: 0.9559 - val_loss: 3.4900 - val_acc: 0.5278\n",
      "Epoch 45/100\n",
      "50000/50000 [==============================] - 8s 158us/step - loss: 0.1387 - acc: 0.9536 - val_loss: 3.4116 - val_acc: 0.5252\n",
      "Epoch 46/100\n",
      "50000/50000 [==============================] - 11s 221us/step - loss: 0.1348 - acc: 0.9554 - val_loss: 3.3187 - val_acc: 0.5305\n",
      "Epoch 47/100\n",
      "50000/50000 [==============================] - 10s 203us/step - loss: 0.1360 - acc: 0.9542 - val_loss: 3.3280 - val_acc: 0.5196\n",
      "Epoch 48/100\n",
      "50000/50000 [==============================] - 8s 161us/step - loss: 0.1218 - acc: 0.9577 - val_loss: 3.4655 - val_acc: 0.5325\n",
      "Epoch 49/100\n",
      "50000/50000 [==============================] - 11s 222us/step - loss: 0.1081 - acc: 0.9628 - val_loss: 3.4725 - val_acc: 0.5343\n",
      "Epoch 50/100\n",
      "50000/50000 [==============================] - 10s 209us/step - loss: 0.1015 - acc: 0.9659 - val_loss: 3.5654 - val_acc: 0.5339\n",
      "Epoch 51/100\n",
      "50000/50000 [==============================] - 8s 161us/step - loss: 0.1264 - acc: 0.9583 - val_loss: 3.4690 - val_acc: 0.5333\n",
      "Epoch 52/100\n",
      "50000/50000 [==============================] - 11s 223us/step - loss: 0.1077 - acc: 0.9633 - val_loss: 3.6215 - val_acc: 0.5240\n",
      "Epoch 53/100\n",
      "50000/50000 [==============================] - 10s 207us/step - loss: 0.1253 - acc: 0.9587 - val_loss: 3.5992 - val_acc: 0.5268\n",
      "Epoch 54/100\n",
      "50000/50000 [==============================] - 8s 151us/step - loss: 0.1103 - acc: 0.9630 - val_loss: 3.5551 - val_acc: 0.5257\n",
      "Epoch 55/100\n",
      "50000/50000 [==============================] - 11s 218us/step - loss: 0.0955 - acc: 0.9684 - val_loss: 3.7383 - val_acc: 0.5263\n",
      "Epoch 56/100\n",
      "50000/50000 [==============================] - 11s 213us/step - loss: 0.1076 - acc: 0.9642 - val_loss: 3.7302 - val_acc: 0.5177\n",
      "Epoch 57/100\n",
      "50000/50000 [==============================] - 8s 158us/step - loss: 0.1029 - acc: 0.9656 - val_loss: 3.6855 - val_acc: 0.5199\n",
      "Epoch 58/100\n",
      "50000/50000 [==============================] - 11s 222us/step - loss: 0.1076 - acc: 0.9647 - val_loss: 3.6018 - val_acc: 0.5194\n",
      "Epoch 59/100\n",
      "50000/50000 [==============================] - 11s 218us/step - loss: 0.1000 - acc: 0.9666 - val_loss: 3.6534 - val_acc: 0.5259\n",
      "Epoch 60/100\n",
      "50000/50000 [==============================] - 8s 160us/step - loss: 0.1006 - acc: 0.9676 - val_loss: 3.6457 - val_acc: 0.5300\n",
      "Epoch 61/100\n",
      "50000/50000 [==============================] - 11s 225us/step - loss: 0.1007 - acc: 0.9661 - val_loss: 3.6851 - val_acc: 0.5228\n",
      "Epoch 62/100\n",
      "50000/50000 [==============================] - 10s 204us/step - loss: 0.1041 - acc: 0.9656 - val_loss: 3.7397 - val_acc: 0.5180\n",
      "Epoch 63/100\n",
      "50000/50000 [==============================] - 8s 150us/step - loss: 0.1056 - acc: 0.9654 - val_loss: 3.7455 - val_acc: 0.5269\n",
      "Epoch 64/100\n",
      "50000/50000 [==============================] - 11s 218us/step - loss: 0.0977 - acc: 0.9686 - val_loss: 3.7333 - val_acc: 0.5204\n",
      "Epoch 65/100\n",
      "50000/50000 [==============================] - 10s 208us/step - loss: 0.0839 - acc: 0.9730 - val_loss: 3.7372 - val_acc: 0.5273\n",
      "Epoch 66/100\n",
      "50000/50000 [==============================] - 8s 160us/step - loss: 0.0767 - acc: 0.9743 - val_loss: 3.8300 - val_acc: 0.5258\n",
      "Epoch 67/100\n",
      "50000/50000 [==============================] - 11s 220us/step - loss: 0.1068 - acc: 0.9651 - val_loss: 3.7450 - val_acc: 0.5275\n",
      "Epoch 68/100\n",
      "50000/50000 [==============================] - 11s 216us/step - loss: 0.0875 - acc: 0.9710 - val_loss: 3.7623 - val_acc: 0.5256\n",
      "Epoch 69/100\n",
      "50000/50000 [==============================] - 8s 151us/step - loss: 0.0955 - acc: 0.9692 - val_loss: 3.7741 - val_acc: 0.5284\n",
      "Epoch 70/100\n",
      "50000/50000 [==============================] - 11s 218us/step - loss: 0.0699 - acc: 0.9770 - val_loss: 3.8172 - val_acc: 0.5239\n",
      "Epoch 71/100\n",
      "50000/50000 [==============================] - 11s 218us/step - loss: 0.0992 - acc: 0.9678 - val_loss: 3.7574 - val_acc: 0.5317\n",
      "Epoch 72/100\n",
      "50000/50000 [==============================] - 7s 149us/step - loss: 0.0587 - acc: 0.9806 - val_loss: 4.0078 - val_acc: 0.5288\n",
      "Epoch 73/100\n",
      "50000/50000 [==============================] - 11s 216us/step - loss: 0.1085 - acc: 0.9661 - val_loss: 3.8128 - val_acc: 0.5226\n",
      "Epoch 74/100\n",
      "50000/50000 [==============================] - 10s 207us/step - loss: 0.1040 - acc: 0.9656 - val_loss: 3.7051 - val_acc: 0.5290\n",
      "Epoch 75/100\n",
      "50000/50000 [==============================] - 7s 149us/step - loss: 0.0731 - acc: 0.9765 - val_loss: 3.8003 - val_acc: 0.5311\n",
      "Epoch 76/100\n",
      "50000/50000 [==============================] - 11s 219us/step - loss: 0.0555 - acc: 0.9817 - val_loss: 3.9726 - val_acc: 0.5327\n",
      "Epoch 77/100\n",
      "50000/50000 [==============================] - 10s 208us/step - loss: 0.0713 - acc: 0.9768 - val_loss: 3.9011 - val_acc: 0.5229\n",
      "Epoch 78/100\n",
      "50000/50000 [==============================] - 8s 156us/step - loss: 0.1110 - acc: 0.9645 - val_loss: 3.7715 - val_acc: 0.5211\n",
      "Epoch 79/100\n",
      "50000/50000 [==============================] - 11s 214us/step - loss: 0.0748 - acc: 0.9758 - val_loss: 3.8588 - val_acc: 0.5279\n",
      "Epoch 80/100\n",
      "50000/50000 [==============================] - 11s 222us/step - loss: 0.0611 - acc: 0.9798 - val_loss: 3.9176 - val_acc: 0.5265\n",
      "Epoch 81/100\n",
      "50000/50000 [==============================] - 8s 158us/step - loss: 0.0982 - acc: 0.9689 - val_loss: 3.9120 - val_acc: 0.5112\n",
      "Epoch 82/100\n",
      "50000/50000 [==============================] - 11s 215us/step - loss: 0.1032 - acc: 0.9671 - val_loss: 3.8703 - val_acc: 0.5287\n",
      "Epoch 83/100\n",
      "50000/50000 [==============================] - 11s 215us/step - loss: 0.0641 - acc: 0.9790 - val_loss: 3.9440 - val_acc: 0.5278\n",
      "Epoch 84/100\n",
      "50000/50000 [==============================] - 8s 158us/step - loss: 0.0806 - acc: 0.9741 - val_loss: 3.9037 - val_acc: 0.5320\n",
      "Epoch 85/100\n",
      "50000/50000 [==============================] - 11s 212us/step - loss: 0.0676 - acc: 0.9788 - val_loss: 4.0851 - val_acc: 0.5248\n",
      "Epoch 86/100\n",
      "50000/50000 [==============================] - 11s 216us/step - loss: 0.0771 - acc: 0.9750 - val_loss: 3.8750 - val_acc: 0.5251\n",
      "Epoch 87/100\n",
      "50000/50000 [==============================] - 8s 165us/step - loss: 0.0608 - acc: 0.9808 - val_loss: 3.9460 - val_acc: 0.5224\n",
      "Epoch 88/100\n",
      "50000/50000 [==============================] - 10s 203us/step - loss: 0.0499 - acc: 0.9837 - val_loss: 4.1034 - val_acc: 0.5291\n",
      "Epoch 89/100\n",
      "50000/50000 [==============================] - 11s 215us/step - loss: 0.0922 - acc: 0.9701 - val_loss: 3.8447 - val_acc: 0.5307\n",
      "Epoch 90/100\n",
      "50000/50000 [==============================] - 8s 163us/step - loss: 0.0870 - acc: 0.9731 - val_loss: 3.9088 - val_acc: 0.5259\n",
      "Epoch 91/100\n",
      "50000/50000 [==============================] - 10s 197us/step - loss: 0.0773 - acc: 0.9761 - val_loss: 3.9690 - val_acc: 0.5194\n",
      "Epoch 92/100\n",
      "50000/50000 [==============================] - 11s 220us/step - loss: 0.0472 - acc: 0.9848 - val_loss: 4.1010 - val_acc: 0.5219\n",
      "Epoch 93/100\n",
      "50000/50000 [==============================] - 9s 176us/step - loss: 0.0682 - acc: 0.9782 - val_loss: 4.0900 - val_acc: 0.5282\n",
      "Epoch 94/100\n",
      "50000/50000 [==============================] - 10s 191us/step - loss: 0.0589 - acc: 0.9806 - val_loss: 4.1281 - val_acc: 0.5276\n",
      "Epoch 95/100\n",
      "50000/50000 [==============================] - 11s 218us/step - loss: 0.0624 - acc: 0.9800 - val_loss: 4.2330 - val_acc: 0.5196\n",
      "Epoch 96/100\n",
      "50000/50000 [==============================] - 9s 177us/step - loss: 0.0789 - acc: 0.9752 - val_loss: 4.0431 - val_acc: 0.5273\n",
      "Epoch 97/100\n",
      "50000/50000 [==============================] - 9s 182us/step - loss: 0.0892 - acc: 0.9724 - val_loss: 3.9699 - val_acc: 0.5182\n",
      "Epoch 98/100\n",
      "50000/50000 [==============================] - 11s 221us/step - loss: 0.0634 - acc: 0.9798 - val_loss: 4.0376 - val_acc: 0.5285\n",
      "Epoch 99/100\n",
      "50000/50000 [==============================] - 9s 183us/step - loss: 0.0562 - acc: 0.9826 - val_loss: 4.0067 - val_acc: 0.5276\n",
      "Epoch 100/100\n",
      "50000/50000 [==============================] - 9s 175us/step - loss: 0.0713 - acc: 0.9780 - val_loss: 3.9860 - val_acc: 0.5258\n"
     ]
    },
    {
     "data": {
      "text/plain": [
       "<keras.callbacks.History at 0x7f1949adce48>"
      ]
     },
     "execution_count": 22,
     "metadata": {},
     "output_type": "execute_result"
    }
   ],
   "source": [
    "model.fit(x_train, y_train, \n",
    "          epochs=EPOCHS, \n",
    "          batch_size=BATCH_SIZE, \n",
    "          validation_data=(x_test, y_test), \n",
    "          shuffle=True)"
   ]
  },
  {
   "cell_type": "code",
   "execution_count": 23,
   "metadata": {},
   "outputs": [
    {
     "data": {
      "image/png": "[encoded data removed]",
      "text/plain": [
       "<Figure size 432x288 with 1 Axes>"
      ]
     },
     "metadata": {
      "needs_background": "light"
     },
     "output_type": "display_data"
    },
    {
     "data": {
      "image/png": "[encoded data removed]",
      "text/plain": [
       "<Figure size 432x288 with 1 Axes>"
      ]
     },
     "metadata": {
      "needs_background": "light"
     },
     "output_type": "display_data"
    }
   ],
   "source": [
    "import matplotlib.pyplot as plt\n",
    "\n",
    "\n",
    "train_loss = model.history.history[\"loss\"]\n",
    "valid_loss = model.history.history[\"val_loss\"]\n",
    "\n",
    "train_acc = model.history.history[\"acc\"]\n",
    "valid_acc = model.history.history[\"val_acc\"]\n",
    "\n",
    "plt.plot(range(len(train_loss)), train_loss, label=\"train loss\")\n",
    "plt.plot(range(len(valid_loss)), valid_loss, label=\"valid loss\")\n",
    "plt.legend()\n",
    "plt.title(\"Loss\")\n",
    "plt.show()\n",
    "\n",
    "plt.plot(range(len(train_acc)), train_acc, label=\"train accuracy\")\n",
    "plt.plot(range(len(valid_acc)), valid_acc, label=\"valid accuracy\")\n",
    "plt.legend()\n",
    "plt.title(\"Accuracy\")\n",
    "plt.show()"
   ]
  },
  {
   "cell_type": "code",
   "execution_count": null,
   "metadata": {},
   "outputs": [],
   "source": []
  }
 ],
 "metadata": {
  "kernelspec": {
   "display_name": "Python 3",
   "language": "python",
   "name": "python3"
  },
  "language_info": {
   "codemirror_mode": {
    "name": "ipython",
    "version": 3
   },
   "file_extension": ".py",
   "mimetype": "text/x-python",
   "name": "python",
   "nbconvert_exporter": "python",
   "pygments_lexer": "ipython3",
   "version": "3.7.1"
  }
 },
 "nbformat": 4,
 "nbformat_minor": 2
}
